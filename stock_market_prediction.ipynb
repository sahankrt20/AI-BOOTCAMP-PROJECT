{
  "nbformat": 4,
  "nbformat_minor": 0,
  "metadata": {
    "colab": {
      "provenance": [],
      "name": "stock_market_prediction.ipynb",
      "authorship_tag": "ABX9TyM3tTnv0KKjUkpFVV7+65ge",
      "include_colab_link": true
    },
    "kernelspec": {
      "name": "python3",
      "display_name": "Python 3"
    },
    "language_info": {
      "name": "python"
    }
  },
  "cells": [
    {
      "cell_type": "markdown",
      "metadata": {
        "id": "view-in-github",
        "colab_type": "text"
      },
      "source": [
        "<a href=\"https://colab.research.google.com/github/sahankrt20/AI-BOOTCAMP-PROJECT/blob/main/stock_market_prediction.ipynb\" target=\"_parent\"><img src=\"https://colab.research.google.com/assets/colab-badge.svg\" alt=\"Open In Colab\"/></a>"
      ]
    },
    {
      "cell_type": "code",
      "execution_count": null,
      "metadata": {
        "id": "SkGT_TOjwNWv"
      },
      "outputs": [],
      "source": [
        "import yfinance as yf"
      ]
    },
    {
      "cell_type": "code",
      "source": [
        "data=yf.download(tickers=\"TSLA\",period=\"1mo\",interval=\"1h\")"
      ],
      "metadata": {
        "colab": {
          "base_uri": "https://localhost:8080/"
        },
        "id": "dTGVUWFpxJ-6",
        "outputId": "6bcaa7e9-9e90-427d-e195-ffe470e002a7"
      },
      "execution_count": null,
      "outputs": [
        {
          "output_type": "stream",
          "name": "stderr",
          "text": [
            "\r[*********************100%***********************]  1 of 1 completed\n"
          ]
        }
      ]
    },
    {
      "cell_type": "code",
      "source": [
        "print(data.head())"
      ],
      "metadata": {
        "colab": {
          "base_uri": "https://localhost:8080/"
        },
        "id": "m8D9JctPxqAN",
        "outputId": "c55c54fb-0cf1-480c-b8a1-befcd3cd1355"
      },
      "execution_count": null,
      "outputs": [
        {
          "output_type": "stream",
          "name": "stdout",
          "text": [
            "Price                           Close        High         Low        Open  \\\n",
            "Ticker                           TSLA        TSLA        TSLA        TSLA   \n",
            "Datetime                                                                    \n",
            "2024-12-18 14:30:00+00:00  474.809906  475.769989  461.109985  466.359985   \n",
            "2024-12-18 15:30:00+00:00  480.244995  480.899994  473.200012  474.791992   \n",
            "2024-12-18 16:30:00+00:00  478.260010  488.539886  477.179993  480.250000   \n",
            "2024-12-18 17:30:00+00:00  475.293213  480.199188  474.355499  478.260010   \n",
            "2024-12-18 18:30:00+00:00  469.220093  477.489990  466.750000  475.280090   \n",
            "\n",
            "Price                        Volume  \n",
            "Ticker                         TSLA  \n",
            "Datetime                             \n",
            "2024-12-18 14:30:00+00:00  29685114  \n",
            "2024-12-18 15:30:00+00:00  12440270  \n",
            "2024-12-18 16:30:00+00:00  16423557  \n",
            "2024-12-18 17:30:00+00:00   8038563  \n",
            "2024-12-18 18:30:00+00:00  13196833  \n"
          ]
        }
      ]
    }
  ]
}